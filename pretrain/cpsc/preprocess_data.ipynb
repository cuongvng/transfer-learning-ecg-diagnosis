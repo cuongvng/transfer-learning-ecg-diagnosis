{
 "cells": [
  {
   "cell_type": "code",
   "execution_count": 1,
   "id": "36fb9562-79b4-4ea4-825d-ba95f2ed6c1b",
   "metadata": {
    "tags": []
   },
   "outputs": [],
   "source": [
    "import pandas as pd\n",
    "import numpy as np\n",
    "import wfdb\n",
    "import glob\n",
    "import re\n",
    "from tqdm import tqdm\n",
    "import joblib\n",
    "import matplotlib.pyplot as plt\n",
    "from sklearn.preprocessing import MinMaxScaler\n",
    "from sklearn.model_selection import train_test_split\n",
    "import warnings; warnings.filterwarnings('ignore')"
   ]
  },
  {
   "cell_type": "code",
   "execution_count": 2,
   "id": "2644105b-91df-47c6-b150-9417f998ef47",
   "metadata": {
    "tags": []
   },
   "outputs": [],
   "source": [
    "SNOMED_CODES = {\n",
    "    '426783006': 'NORM', \n",
    "    '164889003': 'AF',\n",
    "    '270492004': 'IAVB',\n",
    "    '164909002': 'LBBB',\n",
    "    '59118001': 'RBBB',\n",
    "    '284470004': 'PAC',\n",
    "    '164884008': 'VEB', #\n",
    "    '429622005': 'STD',\n",
    "    '164931005': 'STE',\n",
    "}\n",
    "\n",
    "LABELS = ['NORM', 'AF', 'IAVB', 'LBBB', 'RBBB', 'PAC', 'VEB', 'STD', 'STE']"
   ]
  },
  {
   "cell_type": "code",
   "execution_count": 3,
   "id": "19033994-a70f-4c92-925c-f2f418371447",
   "metadata": {
    "tags": []
   },
   "outputs": [],
   "source": [
    "data_path = './data/origin/'"
   ]
  },
  {
   "cell_type": "code",
   "execution_count": 5,
   "id": "1a07fe87-f964-4c9a-8ccb-15b0a3ebf8d9",
   "metadata": {
    "tags": []
   },
   "outputs": [],
   "source": [
    "def downsample(signal, ratio=5):\n",
    "    # Signal of size (L, 12) to (L/ratio, 12)\n",
    "    return signal[::ratio, :]\n"
   ]
  },
  {
   "cell_type": "code",
   "execution_count": 6,
   "id": "88f9f48b-24fc-43b9-9e49-761153b4bff5",
   "metadata": {
    "tags": []
   },
   "outputs": [],
   "source": [
    "LENGTH = 1000\n",
    "def crop(signal):\n",
    "    return signal[0:LENGTH, :]"
   ]
  },
  {
   "cell_type": "code",
   "execution_count": 9,
   "id": "02944923-d422-4258-bb1c-4152d13013d1",
   "metadata": {
    "tags": []
   },
   "outputs": [],
   "source": [
    "def load_raw_data(path):\n",
    "    headers = glob.glob(path+'*.hea')\n",
    "    headers = [h[:-4] for h in headers] # remove extensions\n",
    "    data = []\n",
    "    labels = []\n",
    "    scaler = MinMaxScaler((-1, 1))\n",
    "\n",
    "    for f in tqdm(headers):\n",
    "        signal, meta = wfdb.rdsamp(f)\n",
    "        \n",
    "        # Signal\n",
    "        downsampled = downsample(signal)\n",
    "        l = downsampled.shape[0]\n",
    "        if l < LENGTH: # drop 6 signals of length < 1000\n",
    "            continue\n",
    "        elif l > LENGTH:\n",
    "            downsampled = crop(downsampled)\n",
    "            l = len(downsampled)\n",
    "            assert l == LENGTH\n",
    "            \n",
    "        # Min-max scaling\n",
    "        scaled = scaler.fit_transform(downsampled)\n",
    "        \n",
    "        data.append(scaled)\n",
    "        \n",
    "        # Label\n",
    "        l = meta['comments'][2]\n",
    "        assert l.startswith('Dx:') and l[3] == ' '\n",
    "        lb = [0] * len(LABELS)\n",
    "        # Set one-hot values for diagnosed labels\n",
    "        for sc in l[4:].split(','):\n",
    "            val = SNOMED_CODES[sc]\n",
    "            idx = LABELS.index(val)\n",
    "            lb[idx] = 1\n",
    "            \n",
    "        labels.append(lb)\n",
    "        \n",
    "    assert len(data) == len(labels)\n",
    "    return np.array(data), np.array(labels)\n"
   ]
  },
  {
   "cell_type": "code",
   "execution_count": 10,
   "id": "8b2aa89b-4bae-4cdb-ba59-0cf2839a439a",
   "metadata": {
    "tags": []
   },
   "outputs": [
    {
     "name": "stderr",
     "output_type": "stream",
     "text": [
      "100%|███████████████████████████████████████████████████████████████████████████████████████████████| 6877/6877 [00:22<00:00, 301.52it/s]\n"
     ]
    }
   ],
   "source": [
    "X, y = load_raw_data(data_path)"
   ]
  },
  {
   "cell_type": "code",
   "execution_count": null,
   "id": "3a036af3-f71a-43ba-99e4-dbdfb46d7c0f",
   "metadata": {},
   "outputs": [],
   "source": []
  },
  {
   "cell_type": "markdown",
   "id": "0970a566-cce2-4dc3-b962-cdc5e8eecaac",
   "metadata": {},
   "source": [
    "### Split "
   ]
  },
  {
   "cell_type": "code",
   "execution_count": 11,
   "id": "e1be65d3-66fa-451b-8c7d-72dfbcb804d4",
   "metadata": {},
   "outputs": [
    {
     "data": {
      "text/plain": [
       "((6871, 1000, 12), (6871, 9))"
      ]
     },
     "execution_count": 11,
     "metadata": {},
     "output_type": "execute_result"
    }
   ],
   "source": [
    "X.shape, y.shape"
   ]
  },
  {
   "cell_type": "code",
   "execution_count": 12,
   "id": "65e8d416-d499-4625-9dec-707d060b811f",
   "metadata": {
    "tags": []
   },
   "outputs": [],
   "source": [
    "X_train, X_test, y_train, y_test = train_test_split(X, y, test_size=0.33, random_state=1, stratify=y)"
   ]
  },
  {
   "cell_type": "code",
   "execution_count": 13,
   "id": "05a30356-2c16-4b35-8fa8-b68a1054a7b5",
   "metadata": {
    "tags": []
   },
   "outputs": [
    {
     "data": {
      "text/plain": [
       "array([0.13360852, 0.17749294, 0.10514882, 0.03432544, 0.27025853,\n",
       "       0.08950684, 0.10145557, 0.12622203, 0.03193569])"
      ]
     },
     "execution_count": 13,
     "metadata": {},
     "output_type": "execute_result"
    }
   ],
   "source": [
    "y_train.sum(axis=0)/len(y_train)"
   ]
  },
  {
   "cell_type": "code",
   "execution_count": 14,
   "id": "070a600c-a9b5-4cd9-af4f-16d4dd5faf59",
   "metadata": {
    "tags": []
   },
   "outputs": [
    {
     "data": {
      "text/plain": [
       "array([0.13359788, 0.17768959, 0.10493827, 0.03395062, 0.27028219,\n",
       "       0.08906526, 0.10229277, 0.12654321, 0.03218695])"
      ]
     },
     "execution_count": 14,
     "metadata": {},
     "output_type": "execute_result"
    }
   ],
   "source": [
    "y_test.sum(axis=0)/len(y_test)"
   ]
  },
  {
   "cell_type": "code",
   "execution_count": 16,
   "id": "d0b1f472-9b60-443e-b33c-eece898c42a1",
   "metadata": {},
   "outputs": [
    {
     "data": {
      "text/plain": [
       "[<matplotlib.lines.Line2D at 0x7fe3f12f4b20>]"
      ]
     },
     "execution_count": 16,
     "metadata": {},
     "output_type": "execute_result"
    },
    {
     "data": {
      "image/png": "[encoded data removed]",
      "text/plain": [
       "<Figure size 640x480 with 1 Axes>"
      ]
     },
     "metadata": {},
     "output_type": "display_data"
    }
   ],
   "source": [
    "plt.plot(X_test[19, :, 5])"
   ]
  },
  {
   "cell_type": "code",
   "execution_count": 17,
   "id": "25fe9d23-1ee1-41b3-b795-7c6e8a275300",
   "metadata": {
    "tags": []
   },
   "outputs": [
    {
     "data": {
      "text/plain": [
       "['./data/y_test.joblib']"
      ]
     },
     "execution_count": 17,
     "metadata": {},
     "output_type": "execute_result"
    }
   ],
   "source": [
    "joblib.dump(X_train, './data/X_train.joblib')\n",
    "joblib.dump(y_train, './data/y_train.joblib')\n",
    "joblib.dump(X_test, './data/X_test.joblib')\n",
    "joblib.dump(y_test, './data/y_test.joblib')"
   ]
  },
  {
   "cell_type": "code",
   "execution_count": 18,
   "id": "fa10aca4-54e2-4fa7-a59a-01c923c572d7",
   "metadata": {
    "tags": []
   },
   "outputs": [
    {
     "data": {
      "text/plain": [
       "(1000, 12)"
      ]
     },
     "execution_count": 18,
     "metadata": {},
     "output_type": "execute_result"
    }
   ],
   "source": [
    "X_train[0].shape"
   ]
  },
  {
   "cell_type": "code",
   "execution_count": 19,
   "id": "fb4943af-5908-4eb6-93ed-7957c1101170",
   "metadata": {
    "tags": []
   },
   "outputs": [
    {
     "data": {
      "text/plain": [
       "(9,)"
      ]
     },
     "execution_count": 19,
     "metadata": {},
     "output_type": "execute_result"
    }
   ],
   "source": [
    "y_train[0].shape"
   ]
  },
  {
   "cell_type": "code",
   "execution_count": 2,
   "id": "b8f45cf4-3bcf-4cf5-b932-3ff24d73f1c6",
   "metadata": {},
   "outputs": [],
   "source": [
    "X_train = joblib.load('./data/X_train.joblib')\n",
    "y_train = joblib.load('./data/y_train.joblib')\n",
    "X_test = joblib.load('./data/X_test.joblib')\n",
    "y_test = joblib.load('./data/y_test.joblib')\n",
    "\n"
   ]
  },
  {
   "cell_type": "code",
   "execution_count": 3,
   "id": "b4e272e0-d03a-4976-b440-da71c3a200c0",
   "metadata": {
    "tags": []
   },
   "outputs": [
    {
     "data": {
      "text/plain": [
       "(4603, 1000, 12)"
      ]
     },
     "execution_count": 3,
     "metadata": {},
     "output_type": "execute_result"
    }
   ],
   "source": [
    "X_train.shape"
   ]
  },
  {
   "cell_type": "code",
   "execution_count": 4,
   "id": "b8d1c359-bd63-4e1a-ae61-d0e713424e62",
   "metadata": {
    "tags": []
   },
   "outputs": [
    {
     "data": {
      "text/plain": [
       "(6871, 1000, 12)"
      ]
     },
     "execution_count": 4,
     "metadata": {},
     "output_type": "execute_result"
    }
   ],
   "source": [
    "X_full = np.concatenate((X_train, X_test))\n",
    "X_full.shape"
   ]
  },
  {
   "cell_type": "code",
   "execution_count": 5,
   "id": "1faedf8d-0ea2-43f6-a64b-d069405e97ba",
   "metadata": {
    "tags": []
   },
   "outputs": [
    {
     "data": {
      "text/plain": [
       "(6871, 9)"
      ]
     },
     "execution_count": 5,
     "metadata": {},
     "output_type": "execute_result"
    }
   ],
   "source": [
    "y_full = np.concatenate((y_train, y_test))\n",
    "y_full.shape"
   ]
  },
  {
   "cell_type": "code",
   "execution_count": 6,
   "id": "614eb64e-ef81-4deb-a913-d21fa2a2546a",
   "metadata": {
    "tags": []
   },
   "outputs": [
    {
     "data": {
      "text/plain": [
       "['./data/y_full.joblib']"
      ]
     },
     "execution_count": 6,
     "metadata": {},
     "output_type": "execute_result"
    }
   ],
   "source": [
    "joblib.dump(X_full, './data/X_full.joblib')\n",
    "joblib.dump(y_full, './data/y_full.joblib')"
   ]
  },
  {
   "cell_type": "code",
   "execution_count": null,
   "id": "20de64a9-9d7e-4302-b521-e97c45e90adb",
   "metadata": {},
   "outputs": [],
   "source": []
  }
 ],
 "metadata": {
  "kernelspec": {
   "display_name": "ecg",
   "language": "python",
   "name": "ecg"
  },
  "language_info": {
   "codemirror_mode": {
    "name": "ipython",
    "version": 3
   },
   "file_extension": ".py",
   "mimetype": "text/x-python",
   "name": "python",
   "nbconvert_exporter": "python",
   "pygments_lexer": "ipython3",
   "version": "3.9.0"
  }
 },
 "nbformat": 4,
 "nbformat_minor": 5
}
